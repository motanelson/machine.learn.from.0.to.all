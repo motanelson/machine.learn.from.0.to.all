{
  "metadata": {
    "kernelspec": {
      "name": "xpython",
      "display_name": "Python 3.13 (XPython)",
      "language": "python"
    },
    "language_info": {
      "file_extension": ".py",
      "mimetype": "text/x-python",
      "name": "python",
      "version": "3.13.1"
    }
  },
  "nbformat_minor": 5,
  "nbformat": 4,
  "cells": [
    {
      "id": "9eac1963-5dd5-49c1-b71e-d781f67ec89d",
      "cell_type": "code",
      "source": "print(\"\\033c\\033[43;30m\\narray?\")\ndef joinsxy(listx,listy):\n    a=[]\n    if len(listx)== len(listy):\n        if len(listx)==0:\n            return a\n        for n in range(len(listx)):\n            x=listx[n]\n            y=listy[n]\n            xy=[x] + [y]\n            a=a+[xy]\n    else:\n        return a\n    return a\ndef muls(m1,lens):\n    a=[]\n    for n in range(lens):\n        a=a+[n*m1]\n    return a\n\n\nx=muls(4,20)\ny=muls(2,20)\n\naa=joinsxy(x,y)\nprint(aa)",
      "metadata": {
        "trusted": true,
        "tags": [],
        "editable": true,
        "slideshow": {
          "slide_type": ""
        }
      },
      "outputs": [],
      "execution_count": null
    }
  ]
}